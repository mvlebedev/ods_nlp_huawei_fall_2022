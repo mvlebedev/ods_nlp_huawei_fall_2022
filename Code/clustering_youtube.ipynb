{
 "cells": [
  {
   "cell_type": "code",
   "execution_count": 1,
   "metadata": {},
   "outputs": [
    {
     "name": "stderr",
     "output_type": "stream",
     "text": [
      "[nltk_data] Downloading package punkt to /home/maximus/nltk_data...\n",
      "[nltk_data]   Package punkt is already up-to-date!\n"
     ]
    }
   ],
   "source": [
    "import nltk\n",
    "import numpy as np\n",
    "from multiprocessing import Process\n",
    "from multiprocessing import Manager\n",
    "from nltk.tokenize import word_tokenize\n",
    "nltk.download(\"punkt\")\n",
    "from tqdm import tqdm\n",
    "import pandas\n",
    "import matplotlib.pyplot as plt\n",
    "import pickle\n",
    "import tqdm\n",
    "#!pip install https://github.com/explosion/spacy-models/releases/download/ru_core_news_sm-3.1.0/ru_core_news_sm-3.1.0.tar.gz"
   ]
  },
  {
   "cell_type": "markdown",
   "metadata": {},
   "source": [
    "## Данные"
   ]
  },
  {
   "cell_type": "code",
   "execution_count": 2,
   "metadata": {},
   "outputs": [],
   "source": [
    "df_data = pandas.read_csv(\"../data/Dude_tinkoff_new.csv\")"
   ]
  },
  {
   "cell_type": "markdown",
   "metadata": {},
   "source": [
    "Таблица для сбора общей статистики:"
   ]
  },
  {
   "cell_type": "code",
   "execution_count": 3,
   "metadata": {},
   "outputs": [],
   "source": [
    "total_stat = pandas.DataFrame(columns=['models', 'class_size']) "
   ]
  },
  {
   "cell_type": "markdown",
   "metadata": {},
   "source": [
    "Таблица для сбора общей статистики по авторам:"
   ]
  },
  {
   "cell_type": "code",
   "execution_count": 75,
   "metadata": {},
   "outputs": [],
   "source": [
    "df_auth_stat = pandas.DataFrame(columns=['models', 'number_of_authors']) "
   ]
  },
  {
   "cell_type": "markdown",
   "metadata": {},
   "source": [
    "Таблица с данными"
   ]
  },
  {
   "cell_type": "code",
   "execution_count": 4,
   "metadata": {},
   "outputs": [
    {
     "data": {
      "text/html": [
       "<div>\n",
       "<style scoped>\n",
       "    .dataframe tbody tr th:only-of-type {\n",
       "        vertical-align: middle;\n",
       "    }\n",
       "\n",
       "    .dataframe tbody tr th {\n",
       "        vertical-align: top;\n",
       "    }\n",
       "\n",
       "    .dataframe thead th {\n",
       "        text-align: right;\n",
       "    }\n",
       "</style>\n",
       "<table border=\"1\" class=\"dataframe\">\n",
       "  <thead>\n",
       "    <tr style=\"text-align: right;\">\n",
       "      <th></th>\n",
       "      <th>Unnamed: 0</th>\n",
       "      <th>author_id</th>\n",
       "      <th>author_url</th>\n",
       "      <th>author_name</th>\n",
       "      <th>text</th>\n",
       "      <th>reply_count</th>\n",
       "      <th>top_level</th>\n",
       "      <th>index</th>\n",
       "      <th>publishedAt</th>\n",
       "      <th>updateAt</th>\n",
       "      <th>likeCount</th>\n",
       "    </tr>\n",
       "  </thead>\n",
       "  <tbody>\n",
       "    <tr>\n",
       "      <th>0</th>\n",
       "      <td>0</td>\n",
       "      <td>UC2yzgGYTEDdRNVkayjW1C2w</td>\n",
       "      <td>http://www.youtube.com/channel/UC2yzgGYTEDdRNV...</td>\n",
       "      <td>Владимир Виноградов</td>\n",
       "      <td>Вот и до Яндекса добрались. \\nЮрий Д., пора Ар...</td>\n",
       "      <td>0</td>\n",
       "      <td>0.0</td>\n",
       "      <td>0.0</td>\n",
       "      <td>2022-12-11T16:37:04Z</td>\n",
       "      <td>2022-12-11T16:37:04Z</td>\n",
       "      <td>0.0</td>\n",
       "    </tr>\n",
       "    <tr>\n",
       "      <th>1</th>\n",
       "      <td>1</td>\n",
       "      <td>UCg9iwvHlL3awmOHNHsBFEUA</td>\n",
       "      <td>http://www.youtube.com/channel/UCg9iwvHlL3awmO...</td>\n",
       "      <td>Dmitry Gaskov</td>\n",
       "      <td>А где пометка \"На правах рекламы\"?</td>\n",
       "      <td>0</td>\n",
       "      <td>0.0</td>\n",
       "      <td>1.0</td>\n",
       "      <td>2022-12-11T09:51:29Z</td>\n",
       "      <td>2022-12-11T09:51:29Z</td>\n",
       "      <td>0.0</td>\n",
       "    </tr>\n",
       "    <tr>\n",
       "      <th>2</th>\n",
       "      <td>2</td>\n",
       "      <td>UCdMwli0sTZ8jgLYXHTVZ8Gg</td>\n",
       "      <td>http://www.youtube.com/channel/UCdMwli0sTZ8jgL...</td>\n",
       "      <td>Sveta Teryoshkina</td>\n",
       "      <td>Олег, живите! Вы крутой человек! Аминь!</td>\n",
       "      <td>0</td>\n",
       "      <td>0.0</td>\n",
       "      <td>2.0</td>\n",
       "      <td>2022-12-11T06:30:14Z</td>\n",
       "      <td>2022-12-11T06:30:14Z</td>\n",
       "      <td>1.0</td>\n",
       "    </tr>\n",
       "    <tr>\n",
       "      <th>3</th>\n",
       "      <td>3</td>\n",
       "      <td>UCBHQrudnNCELvzFu9NYADmA</td>\n",
       "      <td>http://www.youtube.com/channel/UCBHQrudnNCELvz...</td>\n",
       "      <td>Irina Bychal</td>\n",
       "      <td>Спасибо за интервью, за адекватность.Тоже не м...</td>\n",
       "      <td>0</td>\n",
       "      <td>0.0</td>\n",
       "      <td>3.0</td>\n",
       "      <td>2022-12-11T05:51:37Z</td>\n",
       "      <td>2022-12-11T05:51:37Z</td>\n",
       "      <td>1.0</td>\n",
       "    </tr>\n",
       "    <tr>\n",
       "      <th>4</th>\n",
       "      <td>4</td>\n",
       "      <td>UCCZT1uuGwvTX45qOH6WgpSg</td>\n",
       "      <td>http://www.youtube.com/channel/UCCZT1uuGwvTX45...</td>\n",
       "      <td>Александр Носов</td>\n",
       "      <td>Молодец во всем! Но кажется что он запутался к...</td>\n",
       "      <td>0</td>\n",
       "      <td>0.0</td>\n",
       "      <td>4.0</td>\n",
       "      <td>2022-12-10T20:48:15Z</td>\n",
       "      <td>2022-12-10T20:48:15Z</td>\n",
       "      <td>0.0</td>\n",
       "    </tr>\n",
       "  </tbody>\n",
       "</table>\n",
       "</div>"
      ],
      "text/plain": [
       "  Unnamed: 0                 author_id  \\\n",
       "0          0  UC2yzgGYTEDdRNVkayjW1C2w   \n",
       "1          1  UCg9iwvHlL3awmOHNHsBFEUA   \n",
       "2          2  UCdMwli0sTZ8jgLYXHTVZ8Gg   \n",
       "3          3  UCBHQrudnNCELvzFu9NYADmA   \n",
       "4          4  UCCZT1uuGwvTX45qOH6WgpSg   \n",
       "\n",
       "                                          author_url          author_name  \\\n",
       "0  http://www.youtube.com/channel/UC2yzgGYTEDdRNV...  Владимир Виноградов   \n",
       "1  http://www.youtube.com/channel/UCg9iwvHlL3awmO...        Dmitry Gaskov   \n",
       "2  http://www.youtube.com/channel/UCdMwli0sTZ8jgL...    Sveta Teryoshkina   \n",
       "3  http://www.youtube.com/channel/UCBHQrudnNCELvz...         Irina Bychal   \n",
       "4  http://www.youtube.com/channel/UCCZT1uuGwvTX45...      Александр Носов   \n",
       "\n",
       "                                                text reply_count  top_level  \\\n",
       "0  Вот и до Яндекса добрались. \\nЮрий Д., пора Ар...           0        0.0   \n",
       "1                 А где пометка \"На правах рекламы\"?           0        0.0   \n",
       "2            Олег, живите! Вы крутой человек! Аминь!           0        0.0   \n",
       "3  Спасибо за интервью, за адекватность.Тоже не м...           0        0.0   \n",
       "4  Молодец во всем! Но кажется что он запутался к...           0        0.0   \n",
       "\n",
       "   index           publishedAt              updateAt  likeCount  \n",
       "0    0.0  2022-12-11T16:37:04Z  2022-12-11T16:37:04Z        0.0  \n",
       "1    1.0  2022-12-11T09:51:29Z  2022-12-11T09:51:29Z        0.0  \n",
       "2    2.0  2022-12-11T06:30:14Z  2022-12-11T06:30:14Z        1.0  \n",
       "3    3.0  2022-12-11T05:51:37Z  2022-12-11T05:51:37Z        1.0  \n",
       "4    4.0  2022-12-10T20:48:15Z  2022-12-10T20:48:15Z        0.0  "
      ]
     },
     "execution_count": 4,
     "metadata": {},
     "output_type": "execute_result"
    }
   ],
   "source": [
    "df_data.head()"
   ]
  },
  {
   "cell_type": "code",
   "execution_count": 5,
   "metadata": {},
   "outputs": [
    {
     "data": {
      "text/plain": [
       "(93339, 11)"
      ]
     },
     "execution_count": 5,
     "metadata": {},
     "output_type": "execute_result"
    }
   ],
   "source": [
    "df_data.shape"
   ]
  },
  {
   "cell_type": "code",
   "execution_count": 6,
   "metadata": {},
   "outputs": [],
   "source": [
    "df_data[\"text\"] = df_data[\"text\"].astype('str')"
   ]
  },
  {
   "cell_type": "code",
   "execution_count": 7,
   "metadata": {},
   "outputs": [
    {
     "name": "stdout",
     "output_type": "stream",
     "text": [
      "<class 'pandas.core.frame.DataFrame'>\n",
      "Int64Index: 91809 entries, 0 to 93338\n",
      "Data columns (total 11 columns):\n",
      " #   Column       Non-Null Count  Dtype  \n",
      "---  ------       --------------  -----  \n",
      " 0   Unnamed: 0   91809 non-null  object \n",
      " 1   author_id    91809 non-null  object \n",
      " 2   author_url   91809 non-null  object \n",
      " 3   author_name  91809 non-null  object \n",
      " 4   text         91809 non-null  object \n",
      " 5   reply_count  91809 non-null  object \n",
      " 6   top_level    91809 non-null  float64\n",
      " 7   index        91809 non-null  float64\n",
      " 8   publishedAt  91809 non-null  object \n",
      " 9   updateAt     91809 non-null  object \n",
      " 10  likeCount    91809 non-null  float64\n",
      "dtypes: float64(3), object(8)\n",
      "memory usage: 8.4+ MB\n"
     ]
    }
   ],
   "source": [
    "df_data = df_data.dropna()\n",
    "df_data.info()"
   ]
  },
  {
   "cell_type": "code",
   "execution_count": 8,
   "metadata": {},
   "outputs": [
    {
     "data": {
      "text/plain": [
       "Series([], Name: Unnamed: 0, dtype: object)"
      ]
     },
     "execution_count": 8,
     "metadata": {},
     "output_type": "execute_result"
    }
   ],
   "source": [
    "df_data[df_data[\"author_name\"].isnull()][\"Unnamed: 0\"][:3]"
   ]
  },
  {
   "cell_type": "markdown",
   "metadata": {},
   "source": [
    "## Выделение пользователей, которые часто оставляют комменатрии"
   ]
  },
  {
   "cell_type": "code",
   "execution_count": 9,
   "metadata": {},
   "outputs": [],
   "source": [
    "d = df_data.groupby(by=[\"author_id\"], dropna=False).agg(full_text =(\"text\",\"sum\"), count=(\"author_id\",\"count\"))"
   ]
  },
  {
   "cell_type": "markdown",
   "metadata": {},
   "source": [
    "Будем использовать только пользователей, которые часто комментируют (более 5 раз)"
   ]
  },
  {
   "cell_type": "code",
   "execution_count": 10,
   "metadata": {},
   "outputs": [],
   "source": [
    "res = d.sort_values(by=\"count\", ascending=False)\n",
    "res = res[res[\"count\"]>=3]"
   ]
  },
  {
   "cell_type": "code",
   "execution_count": 11,
   "metadata": {},
   "outputs": [
    {
     "data": {
      "text/plain": [
       "22661"
      ]
     },
     "execution_count": 11,
     "metadata": {},
     "output_type": "execute_result"
    }
   ],
   "source": [
    "res[res[\"count\"]>=2][\"count\"].sum()"
   ]
  },
  {
   "cell_type": "code",
   "execution_count": 12,
   "metadata": {},
   "outputs": [
    {
     "data": {
      "text/plain": [
       "(4267, 2)"
      ]
     },
     "execution_count": 12,
     "metadata": {},
     "output_type": "execute_result"
    }
   ],
   "source": [
    "res.shape"
   ]
  },
  {
   "cell_type": "code",
   "execution_count": 13,
   "metadata": {},
   "outputs": [],
   "source": [
    "#delete_auth = set(df_data[\"author_id\"].to_list())- set(res.index.to_list())\n",
    "auth = set(res.index.to_list())"
   ]
  },
  {
   "cell_type": "code",
   "execution_count": 14,
   "metadata": {},
   "outputs": [],
   "source": [
    "df = df_data.copy()\n",
    "df = df.loc[df[\"author_id\"].isin(auth)]\n",
    "train_corpus = df[\"text\"]"
   ]
  },
  {
   "cell_type": "code",
   "execution_count": 15,
   "metadata": {},
   "outputs": [
    {
     "name": "stderr",
     "output_type": "stream",
     "text": [
      "/tmp/ipykernel_84837/2549823037.py:1: FutureWarning: The frame.append method is deprecated and will be removed from pandas in a future version. Use pandas.concat instead.\n",
      "  total_stat = total_stat.append({'models':'total', 'class_size':train_corpus.shape[0]}, ignore_index=True)\n"
     ]
    }
   ],
   "source": [
    "total_stat = total_stat.append({'models':'total', 'class_size':train_corpus.shape[0]}, ignore_index=True)"
   ]
  },
  {
   "cell_type": "code",
   "execution_count": 77,
   "metadata": {},
   "outputs": [
    {
     "name": "stderr",
     "output_type": "stream",
     "text": [
      "/tmp/ipykernel_84837/969736557.py:1: FutureWarning: The frame.append method is deprecated and will be removed from pandas in a future version. Use pandas.concat instead.\n",
      "  df_auth_stat = df_auth_stat.append({'models':'total', 'number_of_authors':df[\"author_id\"].unique().shape[0]}, \\\n"
     ]
    }
   ],
   "source": [
    "df_auth_stat = df_auth_stat.append({'models':'total', 'number_of_authors':df[\"author_id\"].unique().shape[0]}, \\\n",
    "                                                                                            ignore_index=True)"
   ]
  },
  {
   "cell_type": "markdown",
   "metadata": {},
   "source": [
    "## Токенизация и предобработка комментариев "
   ]
  },
  {
   "cell_type": "code",
   "execution_count": 16,
   "metadata": {},
   "outputs": [],
   "source": [
    "from nltk.corpus import stopwords\n",
    "stop_words = stopwords.words('russian')\n",
    "stop_words.extend(['br', 'її', 'quot', 'www', 'href', 'https', 'http', 'ru'])\n",
    "stop_words.extend(stopwords.words('english'))"
   ]
  },
  {
   "cell_type": "code",
   "execution_count": 17,
   "metadata": {},
   "outputs": [
    {
     "name": "stderr",
     "output_type": "stream",
     "text": [
      "/home/maximus/anaconda3/lib/python3.9/site-packages/torch/cuda/__init__.py:88: UserWarning: CUDA initialization: CUDA unknown error - this may be due to an incorrectly set up environment, e.g. changing env variable CUDA_VISIBLE_DEVICES after program start. Setting the available devices to be zero. (Triggered internally at ../c10/cuda/CUDAFunctions.cpp:109.)\n",
      "  return torch._C._cuda_getDeviceCount() > 0\n"
     ]
    }
   ],
   "source": [
    "#from nltk.stem import WordNetLemmatizer\n",
    "#wnl = WordNetLemmatizer()\n",
    "import spacy\n",
    "from gensim.utils import simple_preprocess\n",
    "nlp = spacy.load(\"ru_core_news_sm\")\n",
    "\n",
    "def lemma(word):\n",
    "    for w in nlp(word):\n",
    "        return w.lemma_\n",
    "def process_words(texts):\n",
    "    \"\"\"Remove Stopwords, Form Bigrams, Trigrams and Lemmatization\"\"\"\n",
    "    texts = [[word for word in simple_preprocess(str(doc)) if word not in stop_words] for doc in texts]\n",
    "    texts_out = []\n",
    "    for sent in texts:\n",
    "        texts_out.append([lemma(token) for token in sent])\n",
    "    # remove stopwords after lemmatization\n",
    "    texts_out = [[word for word in simple_preprocess(str(doc)) if word not in stop_words] for doc in texts_out]    \n",
    "    return texts_out\n"
   ]
  },
  {
   "cell_type": "code",
   "execution_count": 18,
   "metadata": {},
   "outputs": [],
   "source": [
    "tokenized_text = [word_tokenize(tok) for tok in train_corpus]"
   ]
  },
  {
   "cell_type": "code",
   "execution_count": 19,
   "metadata": {},
   "outputs": [],
   "source": [
    "data_ready = process_words(tokenized_text)"
   ]
  },
  {
   "cell_type": "code",
   "execution_count": 20,
   "metadata": {},
   "outputs": [],
   "source": [
    "processed_corpus = [\" \".join(doc[:120]) for doc in data_ready] "
   ]
  },
  {
   "cell_type": "code",
   "execution_count": 21,
   "metadata": {},
   "outputs": [
    {
     "data": {
      "text/plain": [
       "632"
      ]
     },
     "execution_count": 21,
     "metadata": {},
     "output_type": "execute_result"
    }
   ],
   "source": [
    "import gc\n",
    "gc.collect()"
   ]
  },
  {
   "cell_type": "code",
   "execution_count": 22,
   "metadata": {},
   "outputs": [],
   "source": [
    "from deeppavlov.core.common.file import read_json\n",
    "from deeppavlov import build_model, configs"
   ]
  },
  {
   "cell_type": "code",
   "execution_count": 23,
   "metadata": {},
   "outputs": [],
   "source": [
    "#from transformers import BertTokenizer\n",
    "bert_config = read_json(configs.embedder.bert_embedder)\n",
    "pth1 = '../bert/rubert/'\n",
    "pth2 = './bert_path/cased_L-12_H-768_A-12/'\n",
    "bert_config['metadata']['variables']['BERT_PATH'] = pth1"
   ]
  },
  {
   "cell_type": "code",
   "execution_count": 24,
   "metadata": {},
   "outputs": [],
   "source": [
    "#bert_config"
   ]
  },
  {
   "cell_type": "code",
   "execution_count": 25,
   "metadata": {},
   "outputs": [
    {
     "name": "stderr",
     "output_type": "stream",
     "text": [
      "Some weights of the model checkpoint at /home/maximus/git/ODS_NLP_fall_2022/bert/rubert were not used when initializing BertModel: ['cls.predictions.transform.dense.bias', 'cls.predictions.transform.LayerNorm.weight', 'cls.predictions.decoder.weight', 'cls.predictions.bias', 'cls.seq_relationship.weight', 'cls.predictions.transform.LayerNorm.bias', 'cls.predictions.decoder.bias', 'cls.predictions.transform.dense.weight', 'cls.seq_relationship.bias']\n",
      "- This IS expected if you are initializing BertModel from the checkpoint of a model trained on another task or with another architecture (e.g. initializing a BertForSequenceClassification model from a BertForPreTraining model).\n",
      "- This IS NOT expected if you are initializing BertModel from the checkpoint of a model that you expect to be exactly identical (initializing a BertForSequenceClassification model from a BertForSequenceClassification model).\n"
     ]
    }
   ],
   "source": [
    "m = build_model(bert_config)\n"
   ]
  },
  {
   "cell_type": "code",
   "execution_count": 26,
   "metadata": {},
   "outputs": [],
   "source": [
    "from transformers import BertTokenizer"
   ]
  },
  {
   "cell_type": "code",
   "execution_count": 27,
   "metadata": {},
   "outputs": [],
   "source": [
    "tokenizer = BertTokenizer.from_pretrained(pth1)"
   ]
  },
  {
   "cell_type": "code",
   "execution_count": 28,
   "metadata": {},
   "outputs": [],
   "source": [
    "texts = ['Привет как дела max.', 'Я хочу, please!']\n",
    "tok = tokenizer(processed_corpus)"
   ]
  },
  {
   "cell_type": "code",
   "execution_count": 29,
   "metadata": {},
   "outputs": [
    {
     "data": {
      "text/plain": [
       "dict_keys(['input_ids', 'token_type_ids', 'attention_mask'])"
      ]
     },
     "execution_count": 29,
     "metadata": {},
     "output_type": "execute_result"
    }
   ],
   "source": [
    "tok.keys()"
   ]
  },
  {
   "cell_type": "code",
   "execution_count": 30,
   "metadata": {},
   "outputs": [],
   "source": [
    "#tokens, token_embs, subtokens, subtoken_embs, sent_max_embs, sent_mean_embs, bert_pooler_outputs = m(texts)"
   ]
  },
  {
   "cell_type": "code",
   "execution_count": 31,
   "metadata": {},
   "outputs": [
    {
     "name": "stderr",
     "output_type": "stream",
     "text": [
      "100%|███████████████████████████████████████| 2266/2266 [10:45<00:00,  3.51it/s]\n"
     ]
    }
   ],
   "source": [
    "b = 10\n",
    "N = len(processed_corpus)//b\n",
    "result = np.zeros([len(processed_corpus),768])\n",
    "for i in tqdm.tqdm(range(N)):\n",
    "    #print(f'{i*N} : {(i+1)*N}')\n",
    "    _, _, _, _, _, sent_mean_embs, _ = m(processed_corpus[i*b:(i+1)*b])\n",
    "    result[i*b:(i+1)*b,:] = sent_mean_embs[:,:]\n",
    "    #print(sent_mean_embs.shape)\n",
    "    del sent_mean_embs\n",
    "    "
   ]
  },
  {
   "cell_type": "code",
   "execution_count": 32,
   "metadata": {},
   "outputs": [],
   "source": [
    "del m"
   ]
  },
  {
   "cell_type": "code",
   "execution_count": 33,
   "metadata": {},
   "outputs": [],
   "source": [
    "import torch"
   ]
  },
  {
   "cell_type": "code",
   "execution_count": 34,
   "metadata": {},
   "outputs": [
    {
     "data": {
      "text/plain": [
       "False"
      ]
     },
     "execution_count": 34,
     "metadata": {},
     "output_type": "execute_result"
    }
   ],
   "source": [
    "torch.cuda.is_available()"
   ]
  },
  {
   "cell_type": "code",
   "execution_count": 35,
   "metadata": {},
   "outputs": [
    {
     "data": {
      "text/plain": [
       "0"
      ]
     },
     "execution_count": 35,
     "metadata": {},
     "output_type": "execute_result"
    }
   ],
   "source": [
    "gc.collect()"
   ]
  },
  {
   "cell_type": "markdown",
   "metadata": {},
   "source": [
    "## GMM"
   ]
  },
  {
   "cell_type": "code",
   "execution_count": 36,
   "metadata": {},
   "outputs": [],
   "source": [
    "class_number = 4\n",
    "from sklearn.mixture import GaussianMixture\n",
    "gm = GaussianMixture(n_components=class_number,  random_state=0).fit(result)"
   ]
  },
  {
   "cell_type": "code",
   "execution_count": 38,
   "metadata": {},
   "outputs": [],
   "source": [
    "class_pred = gm.predict(result)"
   ]
  },
  {
   "cell_type": "code",
   "execution_count": 39,
   "metadata": {},
   "outputs": [],
   "source": [
    "from sklearn.manifold import TSNE\n"
   ]
  },
  {
   "cell_type": "code",
   "execution_count": 40,
   "metadata": {},
   "outputs": [],
   "source": [
    "def plot_tsne(class_number, result, class_pred):\n",
    "    fig = plt.figure()\n",
    "    ax = fig.add_subplot(111) \n",
    "    X_embedded = TSNE(n_components=2,  learning_rate='auto',  init='random', perplexity=5).fit_transform(result)\n",
    "    colors = ['r', 'b', 'g', 'y','k']\n",
    "    for i in range(class_number):\n",
    "        ax.scatter(X_embedded[class_pred==i][:,0], X_embedded[class_pred==i][:,1], c=colors[i], label=f'class = {i}')\n",
    "    #plt.scatter(X_embedded[pred==0][:,0], X_embedded[pred==0][:,1])\n",
    "    ax.legend()\n",
    "    return ax, fig, X_embedded"
   ]
  },
  {
   "cell_type": "code",
   "execution_count": 41,
   "metadata": {},
   "outputs": [
    {
     "data": {
      "image/png": "[encoded data removed]",
      "text/plain": [
       "<Figure size 640x480 with 1 Axes>"
      ]
     },
     "metadata": {},
     "output_type": "display_data"
    }
   ],
   "source": [
    "ax, fig1, tsne_emb = plot_tsne(class_number, result, class_pred)"
   ]
  },
  {
   "cell_type": "code",
   "execution_count": 62,
   "metadata": {},
   "outputs": [
    {
     "name": "stdout",
     "output_type": "stream",
     "text": [
      "Number element in cluster (GMM):  976\n"
     ]
    },
    {
     "name": "stderr",
     "output_type": "stream",
     "text": [
      "/tmp/ipykernel_84837/3890175370.py:5: FutureWarning: The frame.append method is deprecated and will be removed from pandas in a future version. Use pandas.concat instead.\n",
      "  total_stat = total_stat.append({'models':'GMM', 'class_size':n},ignore_index=True)\n"
     ]
    }
   ],
   "source": [
    "class_with_noise = 3\n",
    "fig1.savefig(\"../Report/pics/tsne_gmm.png\")\n",
    "n = train_corpus.iloc[class_pred==class_with_noise].shape[0]\n",
    "print(\"Number element in cluster (GMM): \", n)\n",
    "total_stat = total_stat.append({'models':'GMM', 'class_size':n},ignore_index=True)"
   ]
  },
  {
   "cell_type": "code",
   "execution_count": 78,
   "metadata": {},
   "outputs": [
    {
     "name": "stderr",
     "output_type": "stream",
     "text": [
      "/tmp/ipykernel_84837/2115087100.py:2: FutureWarning: The frame.append method is deprecated and will be removed from pandas in a future version. Use pandas.concat instead.\n",
      "  df_auth_stat = df_auth_stat.append({'models':'GMM', 'number_of_authors':n_a},ignore_index=True)\n"
     ]
    }
   ],
   "source": [
    "n_a = df.iloc[class_pred==class_with_noise][\"author_id\"].unique().shape[0]\n",
    "df_auth_stat = df_auth_stat.append({'models':'GMM', 'number_of_authors':n_a},ignore_index=True)"
   ]
  },
  {
   "cell_type": "code",
   "execution_count": 43,
   "metadata": {},
   "outputs": [
    {
     "name": "stdout",
     "output_type": "stream",
     "text": [
      "ск0льк0 6удет продолжаться конфликт России и Украины?И что нужно для его пекращения?О6ьективный и независимый разбор ситуации (острые,но честный факты) <a href=\"https://youtu.be/uySyfO7Ukek\">https://youtu.be/uySyfO7Ukek</a>\n",
      "----------------------------------\n",
      "\n",
      "https://www.youtube.com/watch?v=Y3hNyPKuEUU&ab_channel=NEMAGIA\n",
      "----------------------------------\n",
      "\n",
      "☝️ To caмoе Mлaдше !8 в нuke 🥲\n",
      "----------------------------------\n",
      "\n",
      "<a href=\"https://www.youtube.com/watch?v=Y3hNyPKuEUU&amp;ab_channel=NEMAGIA\">https://www.youtube.com/watch?v=Y3hNyPKuEUU&amp;ab_channel=NEMAGIA</a>\n",
      "----------------------------------\n",
      "\n",
      "@Anastasiia Savarovskaya я все помню\n",
      "----------------------------------\n",
      "\n",
      "☝️ To caмoе Mлaдше !8 в нuke 🥵\n",
      "----------------------------------\n",
      "\n",
      "@aligagator bezze а ты там был когда горело???\n",
      "----------------------------------\n",
      "\n",
      "☝️ To caмoе Mлaдше !8 в нuke 🥵\n",
      "----------------------------------\n",
      "\n",
      "@JnandGUK по однобоким фактам.\n",
      "----------------------------------\n",
      "\n",
      "I do not believe that Russia can win this war. Even the president of Belarus, a Russian ally, stated that &quot;it is impossible to defeat a people fighting for their territory, their families, and their children within their own country.&quot; For me, as a Japanese, I am just happy.\n",
      "----------------------------------\n",
      "\n"
     ]
    }
   ],
   "source": [
    "import codecs\n",
    "LINE_WIDTH = 80\n",
    "sub_indexes = np.random.randint(0,n,10)\n",
    "with codecs.open(\"../Report/gmmclasscomment.txt\",\"w\",\"utf-8-sig\") as f:\n",
    "    #f.write(\"\\\\begin{verbatim}\")\n",
    "    for w in train_corpus.iloc[class_pred==class_with_noise].iloc[sub_indexes]:\n",
    "        print(w)\n",
    "        print(\"----------------------------------\\n\")\n",
    "        f.write((w[:LINE_WIDTH] +\"...\\n\"))\n",
    "        f.write(\"-------------------------------------------\\n\")\n",
    "    #f.write(\"\\\\end{verbatim}\")"
   ]
  },
  {
   "cell_type": "markdown",
   "metadata": {},
   "source": [
    "## Выбор точек на периферии окружности"
   ]
  },
  {
   "cell_type": "code",
   "execution_count": 44,
   "metadata": {},
   "outputs": [],
   "source": [
    "def plot_outside_circle(tsne_emb, r=110):\n",
    "    fig = plt.figure()\n",
    "    ax = fig.add_subplot(111) \n",
    "    indexes = []\n",
    "    for i,p in enumerate(tsne_emb):\n",
    "        if np.linalg.norm(p)>=r:\n",
    "            ax.plot([p[0]],[p[1]],'ro')\n",
    "            indexes.append(i)\n",
    "        else:\n",
    "            ax.plot([p[0]],[p[1]],'bo')\n",
    "    return ax, fig, indexes\n",
    "            "
   ]
  },
  {
   "cell_type": "code",
   "execution_count": 45,
   "metadata": {},
   "outputs": [
    {
     "data": {
      "image/png": "[encoded data removed]",
      "text/plain": [
       "<Figure size 640x480 with 1 Axes>"
      ]
     },
     "metadata": {},
     "output_type": "display_data"
    }
   ],
   "source": [
    "_, fig2, indexes = plot_outside_circle(tsne_emb)\n",
    "fig2.savefig(\"../Report/pics/tsne_outside_circle.png\")"
   ]
  },
  {
   "cell_type": "code",
   "execution_count": 64,
   "metadata": {},
   "outputs": [
    {
     "name": "stdout",
     "output_type": "stream",
     "text": [
      "Number element in cluster (outside center):  491\n"
     ]
    },
    {
     "name": "stderr",
     "output_type": "stream",
     "text": [
      "/tmp/ipykernel_84837/4222871958.py:3: FutureWarning: The frame.append method is deprecated and will be removed from pandas in a future version. Use pandas.concat instead.\n",
      "  total_stat = total_stat.append({'models':'out_circle', 'class_size':n},ignore_index=True)\n"
     ]
    }
   ],
   "source": [
    "n = train_corpus.iloc[indexes].shape[0]\n",
    "print(\"Number element in cluster (outside center): \", n)\n",
    "total_stat = total_stat.append({'models':'out_circle', 'class_size':n},ignore_index=True)"
   ]
  },
  {
   "cell_type": "code",
   "execution_count": 79,
   "metadata": {},
   "outputs": [
    {
     "name": "stderr",
     "output_type": "stream",
     "text": [
      "/tmp/ipykernel_84837/3302353349.py:2: FutureWarning: The frame.append method is deprecated and will be removed from pandas in a future version. Use pandas.concat instead.\n",
      "  df_auth_stat = df_auth_stat.append({'models':'out_circle', 'number_of_authors':n_a},ignore_index=True)\n"
     ]
    }
   ],
   "source": [
    "n_a = df.iloc[indexes][\"author_id\"].unique().shape[0]\n",
    "df_auth_stat = df_auth_stat.append({'models':'out_circle', 'number_of_authors':n_a},ignore_index=True)"
   ]
  },
  {
   "cell_type": "code",
   "execution_count": 47,
   "metadata": {},
   "outputs": [
    {
     "name": "stdout",
     "output_type": "stream",
     "text": [
      "Ghana Socialist Leader: We Know Who Are Real Enemies Are and It’s Not Russia\r\n",
      "youtube.com/watch?v=5xCXYtCtUWU\n",
      "----------------------------------\n",
      "\n",
      "<a href=\"https://www.youtube.com/watch?v=Y3hNyPKuEUU&amp;ab_channel=NEMAGIA\">https://www.youtube.com/watch?v=Y3hNyPKuEUU&amp;ab_channel=NEMAGIA</a>\n",
      "----------------------------------\n",
      "\n",
      "Не важно что и как в Украине, не важно вообще нечего, что там происходило и происходит.<br><br>Важно одно - не может существовать вообще никаких причин для геноцида Украинского народа что совершает российская армия по приказу путина.<br><br>80 лет назад такой геноцид делала Германская армия по приказу гитлера, а Германская  пропоганда придумывала оправдания. <br>Сейчас геноцид совершает росийская армия по приказу путина, а росийская пропаганда пытаеться оправдывать  этот геноцид Украинского народа.<br><br>Включайте свои мозги, начните думать своей головой, а не телевизором.<br><br>путин - убийца !<br>путина в отставку !!\n",
      "----------------------------------\n",
      "\n",
      "Топ\n",
      "----------------------------------\n",
      "\n",
      "☝️ To caмoе Mлaдше !8 в нuke ☝️\n",
      "----------------------------------\n",
      "\n",
      "Все русские патриоты поддерживают специальную военную операцию. \n",
      "\n",
      "Против только либерасты, попавшие под влияние гнилой западной пропаганды.\n",
      "\n",
      "Украинский неонацизм и русофобия будут уничтожены.\n",
      "----------------------------------\n",
      "\n",
      "☝️ To caмoе Mлaдше !8 в нuke 🍌\n",
      "----------------------------------\n",
      "\n",
      "<b>Не Дудь&#39;</b><br><a href=\"https://youtu.be/ItFVgpC_YTM\">https://youtu.be/ItFVgpC_YTM</a>\n",
      "----------------------------------\n",
      "\n",
      "Путь ВЕЛИКИХ БЕЖЕНЦЕВ!!! \n",
      "\n",
      "Путь ВЕЛИКИХ БЕЖЕНЦЕВ!!! \n",
      "\n",
      "Путь ВЕЛИКИХ БЕЖЕНЦЕВ!!! \n",
      "\n",
      "Путь ВЕЛИКИХ БЕЖЕНЦЕВ!!! \n",
      "\n",
      "Тиньков и 5-7 человек заслуживают особого внимания, хотя бы потому, что уверены в своей позиции!!\n",
      "----------------------------------\n",
      "\n",
      "☝️ To caмoе Mлaдше !8 в нuke 👍\n",
      "----------------------------------\n",
      "\n"
     ]
    }
   ],
   "source": [
    "import codecs\n",
    "sub_indexes = np.random.randint(0,n,10)\n",
    "with codecs.open(\"../Report/ocentercomment.txt\",\"w\",\"utf-8-sig\") as f:\n",
    "    #f.write(\"\\\\begin{verbatim}\")\n",
    "    for w in train_corpus.iloc[indexes].iloc[sub_indexes]:\n",
    "        print(w)\n",
    "        print(\"----------------------------------\\n\")\n",
    "        f.write((w[:LINE_WIDTH] +\"...\\n\"))\n",
    "        f.write(\"-------------------------------------------\\n\")\n",
    "    #f.write(\"\\\\end{verbatim}\")"
   ]
  },
  {
   "cell_type": "code",
   "execution_count": 48,
   "metadata": {},
   "outputs": [
    {
     "data": {
      "text/plain": [
       "(491,)"
      ]
     },
     "execution_count": 48,
     "metadata": {},
     "output_type": "execute_result"
    }
   ],
   "source": [
    "train_corpus.iloc[indexes].shape"
   ]
  },
  {
   "cell_type": "markdown",
   "metadata": {},
   "source": [
    "## K-means"
   ]
  },
  {
   "cell_type": "code",
   "execution_count": 49,
   "metadata": {},
   "outputs": [],
   "source": [
    "from sklearn.cluster import KMeans"
   ]
  },
  {
   "cell_type": "code",
   "execution_count": 50,
   "metadata": {},
   "outputs": [],
   "source": [
    "km = KMeans(n_clusters=class_number, random_state=0).fit(result)"
   ]
  },
  {
   "cell_type": "code",
   "execution_count": 51,
   "metadata": {},
   "outputs": [
    {
     "data": {
      "image/png": "[encoded data removed]",
      "text/plain": [
       "<Figure size 640x480 with 1 Axes>"
      ]
     },
     "metadata": {},
     "output_type": "display_data"
    }
   ],
   "source": [
    "_, fig3, _ = plot_tsne(class_number, result, km.labels_)\n",
    "fig3.savefig(\"../Report/pics/tsne_kmeans.png\")"
   ]
  },
  {
   "cell_type": "code",
   "execution_count": 66,
   "metadata": {},
   "outputs": [
    {
     "name": "stdout",
     "output_type": "stream",
     "text": [
      "Number element in cluster (K-means):  413\n"
     ]
    },
    {
     "name": "stderr",
     "output_type": "stream",
     "text": [
      "/tmp/ipykernel_84837/2932100068.py:4: FutureWarning: The frame.append method is deprecated and will be removed from pandas in a future version. Use pandas.concat instead.\n",
      "  total_stat = total_stat.append({'models':'kmeans', 'class_size':n},ignore_index=True)\n"
     ]
    }
   ],
   "source": [
    "class_with_noise = 3\n",
    "n = train_corpus.iloc[km.labels_==class_with_noise].shape[0]\n",
    "print(\"Number element in cluster (K-means): \", n)\n",
    "total_stat = total_stat.append({'models':'kmeans', 'class_size':n},ignore_index=True)"
   ]
  },
  {
   "cell_type": "code",
   "execution_count": 80,
   "metadata": {},
   "outputs": [
    {
     "name": "stderr",
     "output_type": "stream",
     "text": [
      "/tmp/ipykernel_84837/627125377.py:2: FutureWarning: The frame.append method is deprecated and will be removed from pandas in a future version. Use pandas.concat instead.\n",
      "  df_auth_stat = df_auth_stat.append({'models':'kmeans', 'number_of_authors':n_a},ignore_index=True)\n"
     ]
    }
   ],
   "source": [
    "n_a = df.iloc[km.labels_==class_with_noise][\"author_id\"].unique().shape[0]\n",
    "df_auth_stat = df_auth_stat.append({'models':'kmeans', 'number_of_authors':n_a},ignore_index=True)"
   ]
  },
  {
   "cell_type": "code",
   "execution_count": 53,
   "metadata": {},
   "outputs": [
    {
     "name": "stdout",
     "output_type": "stream",
     "text": [
      "Если бы мы не вели войска в Украину она бы напала на нас а Тиньков он клоун\n",
      "----------------------------------\n",
      "\n",
      "Z\n",
      "----------------------------------\n",
      "\n",
      "В деньгах силах. Есть деньги, есть комфорт, есть развитие, есть будущее.\n",
      "----------------------------------\n",
      "\n",
      "Z\n",
      "----------------------------------\n",
      "\n",
      "Z\n",
      "----------------------------------\n",
      "\n",
      "Если бы мы не вели войска в Украину она бы напала на нас а Тиньков он клоун\n",
      "----------------------------------\n",
      "\n",
      "Z\n",
      "----------------------------------\n",
      "\n",
      "Z\n",
      "----------------------------------\n",
      "\n",
      "В деньгах силах. Есть деньги, есть комфорт, есть развитие, есть будущее.\n",
      "----------------------------------\n",
      "\n",
      "В деньгах силах. Есть деньги, есть комфорт, есть развитие, есть будущее.\n",
      "----------------------------------\n",
      "\n"
     ]
    }
   ],
   "source": [
    "import codecs\n",
    "LINE_WIDTH = 80\n",
    "sub_indexes = np.random.randint(0,n,10)\n",
    "with codecs.open(\"../Report/kmeansclasscomment.txt\",\"w\",\"utf-8-sig\") as f:\n",
    "    #f.write(\"\\\\begin{verbatim}\")\n",
    "    for w in train_corpus.iloc[km.labels_].iloc[sub_indexes]:\n",
    "        print(w)\n",
    "        print(\"----------------------------------\\n\")\n",
    "        f.write((w[:LINE_WIDTH] + \"...\\n\"))\n",
    "        f.write(\"-------------------------------------------\\n\")\n",
    "    #f.write(\"\\\\end{verbatim}\")"
   ]
  },
  {
   "cell_type": "code",
   "execution_count": 54,
   "metadata": {},
   "outputs": [],
   "source": [
    "# Общая статистика по классам"
   ]
  },
  {
   "cell_type": "code",
   "execution_count": 55,
   "metadata": {},
   "outputs": [
    {
     "data": {
      "text/html": [
       "<div>\n",
       "<style scoped>\n",
       "    .dataframe tbody tr th:only-of-type {\n",
       "        vertical-align: middle;\n",
       "    }\n",
       "\n",
       "    .dataframe tbody tr th {\n",
       "        vertical-align: top;\n",
       "    }\n",
       "\n",
       "    .dataframe thead th {\n",
       "        text-align: right;\n",
       "    }\n",
       "</style>\n",
       "<table border=\"1\" class=\"dataframe\">\n",
       "  <thead>\n",
       "    <tr style=\"text-align: right;\">\n",
       "      <th></th>\n",
       "      <th>models</th>\n",
       "      <th>class_size</th>\n",
       "    </tr>\n",
       "  </thead>\n",
       "  <tbody>\n",
       "    <tr>\n",
       "      <th>0</th>\n",
       "      <td>total</td>\n",
       "      <td>22661</td>\n",
       "    </tr>\n",
       "    <tr>\n",
       "      <th>1</th>\n",
       "      <td>GMM</td>\n",
       "      <td>976</td>\n",
       "    </tr>\n",
       "    <tr>\n",
       "      <th>2</th>\n",
       "      <td>out_circle</td>\n",
       "      <td>491</td>\n",
       "    </tr>\n",
       "    <tr>\n",
       "      <th>3</th>\n",
       "      <td>kmeans</td>\n",
       "      <td>413</td>\n",
       "    </tr>\n",
       "  </tbody>\n",
       "</table>\n",
       "</div>"
      ],
      "text/plain": [
       "       models class_size\n",
       "0       total      22661\n",
       "1         GMM        976\n",
       "2  out_circle        491\n",
       "3      kmeans        413"
      ]
     },
     "execution_count": 55,
     "metadata": {},
     "output_type": "execute_result"
    }
   ],
   "source": [
    "total_stat"
   ]
  },
  {
   "cell_type": "code",
   "execution_count": 56,
   "metadata": {},
   "outputs": [],
   "source": [
    "total_stat.to_csv(\"total_stat.csv\")"
   ]
  },
  {
   "cell_type": "code",
   "execution_count": 81,
   "metadata": {},
   "outputs": [
    {
     "data": {
      "text/html": [
       "<div>\n",
       "<style scoped>\n",
       "    .dataframe tbody tr th:only-of-type {\n",
       "        vertical-align: middle;\n",
       "    }\n",
       "\n",
       "    .dataframe tbody tr th {\n",
       "        vertical-align: top;\n",
       "    }\n",
       "\n",
       "    .dataframe thead th {\n",
       "        text-align: right;\n",
       "    }\n",
       "</style>\n",
       "<table border=\"1\" class=\"dataframe\">\n",
       "  <thead>\n",
       "    <tr style=\"text-align: right;\">\n",
       "      <th></th>\n",
       "      <th>models</th>\n",
       "      <th>number_of_authors</th>\n",
       "    </tr>\n",
       "  </thead>\n",
       "  <tbody>\n",
       "    <tr>\n",
       "      <th>0</th>\n",
       "      <td>total</td>\n",
       "      <td>4267</td>\n",
       "    </tr>\n",
       "    <tr>\n",
       "      <th>1</th>\n",
       "      <td>GMM</td>\n",
       "      <td>319</td>\n",
       "    </tr>\n",
       "    <tr>\n",
       "      <th>2</th>\n",
       "      <td>out_circle</td>\n",
       "      <td>61</td>\n",
       "    </tr>\n",
       "    <tr>\n",
       "      <th>3</th>\n",
       "      <td>kmeans</td>\n",
       "      <td>255</td>\n",
       "    </tr>\n",
       "  </tbody>\n",
       "</table>\n",
       "</div>"
      ],
      "text/plain": [
       "       models number_of_authors\n",
       "0       total              4267\n",
       "1         GMM               319\n",
       "2  out_circle                61\n",
       "3      kmeans               255"
      ]
     },
     "execution_count": 81,
     "metadata": {},
     "output_type": "execute_result"
    }
   ],
   "source": [
    "df_auth_stat"
   ]
  },
  {
   "cell_type": "code",
   "execution_count": 82,
   "metadata": {},
   "outputs": [],
   "source": [
    "df_auth_stat.to_csv(\"total_auth_stat.csv\")"
   ]
  },
  {
   "cell_type": "code",
   "execution_count": null,
   "metadata": {},
   "outputs": [],
   "source": []
  }
 ],
 "metadata": {
  "kernelspec": {
   "display_name": "Python 3 (ipykernel)",
   "language": "python",
   "name": "python3"
  },
  "language_info": {
   "codemirror_mode": {
    "name": "ipython",
    "version": 3
   },
   "file_extension": ".py",
   "mimetype": "text/x-python",
   "name": "python",
   "nbconvert_exporter": "python",
   "pygments_lexer": "ipython3",
   "version": "3.9.13"
  }
 },
 "nbformat": 4,
 "nbformat_minor": 2
}
